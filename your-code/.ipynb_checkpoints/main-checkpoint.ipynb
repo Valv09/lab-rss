{
 "cells": [
  {
   "cell_type": "markdown",
   "metadata": {},
   "source": [
    "# Working with RSS Feeds Lab\n",
    "\n",
    "Complete the following set of exercises to solidify your knowledge of parsing RSS feeds and extracting information from them."
   ]
  },
  {
   "cell_type": "code",
   "execution_count": 1,
   "metadata": {},
   "outputs": [],
   "source": [
    "import feedparser"
   ]
  },
  {
   "cell_type": "markdown",
   "metadata": {},
   "source": [
    "### 1. Use feedparser to parse the following RSS feed URL."
   ]
  },
  {
   "cell_type": "code",
   "execution_count": 2,
   "metadata": {},
   "outputs": [],
   "source": [
    "url = 'http://feeds.feedburner.com/oreilly/radar/atom'"
   ]
  },
  {
   "cell_type": "code",
   "execution_count": 3,
   "metadata": {},
   "outputs": [],
   "source": [
    "f_b = feedparser.parse(url)"
   ]
  },
  {
   "cell_type": "markdown",
   "metadata": {},
   "source": [
    "### 2. Obtain a list of components (keys) that are available for this feed."
   ]
  },
  {
   "cell_type": "code",
   "execution_count": 4,
   "metadata": {},
   "outputs": [
    {
     "data": {
      "text/plain": [
       "dict_keys(['bozo', 'entries', 'feed', 'headers', 'updated', 'updated_parsed', 'href', 'status', 'encoding', 'version', 'namespaces'])"
      ]
     },
     "execution_count": 4,
     "metadata": {},
     "output_type": "execute_result"
    }
   ],
   "source": [
    "f_b.keys()"
   ]
  },
  {
   "cell_type": "markdown",
   "metadata": {},
   "source": [
    "### 3. Obtain a list of components (keys) that are available for the *feed* component of this RSS feed."
   ]
  },
  {
   "cell_type": "code",
   "execution_count": 5,
   "metadata": {},
   "outputs": [
    {
     "data": {
      "text/plain": [
       "dict_keys(['title', 'title_detail', 'links', 'link', 'subtitle', 'subtitle_detail', 'updated', 'updated_parsed', 'language', 'sy_updateperiod', 'sy_updatefrequency', 'generator_detail', 'generator'])"
      ]
     },
     "execution_count": 5,
     "metadata": {},
     "output_type": "execute_result"
    }
   ],
   "source": [
    "f_b.feed.keys()"
   ]
  },
  {
   "cell_type": "markdown",
   "metadata": {},
   "source": [
    "### 4. Extract and print the feed title, subtitle, author, and link."
   ]
  },
  {
   "cell_type": "code",
   "execution_count": 6,
   "metadata": {},
   "outputs": [
    {
     "name": "stdout",
     "output_type": "stream",
     "text": [
      "Radar\n",
      "Now, next, and beyond: Tracking need-to-know trends at the intersection of business and technology\n",
      "https://www.oreilly.com/radar\n"
     ]
    }
   ],
   "source": [
    "print(f_b.feed.title)\n",
    "print(f_b.feed.subtitle)\n",
    "print(f_b.feed.link)"
   ]
  },
  {
   "cell_type": "markdown",
   "metadata": {},
   "source": [
    "### 5. Count the number of entries that are contained in this RSS feed."
   ]
  },
  {
   "cell_type": "code",
   "execution_count": 7,
   "metadata": {},
   "outputs": [
    {
     "data": {
      "text/plain": [
       "15"
      ]
     },
     "execution_count": 7,
     "metadata": {},
     "output_type": "execute_result"
    }
   ],
   "source": [
    "len(f_b.entries)"
   ]
  },
  {
   "cell_type": "markdown",
   "metadata": {},
   "source": [
    "### 6. Obtain a list of components (keys) available for an entry.\n",
    "\n",
    "*Hint: Remember to index first before requesting the keys*"
   ]
  },
  {
   "cell_type": "code",
   "execution_count": 8,
   "metadata": {},
   "outputs": [
    {
     "data": {
      "text/plain": [
       "dict_keys(['title', 'title_detail', 'links', 'link', 'comments', 'published', 'published_parsed', 'authors', 'author', 'author_detail', 'tags', 'id', 'guidislink', 'summary', 'summary_detail', 'content', 'wfw_commentrss', 'slash_comments'])"
      ]
     },
     "execution_count": 8,
     "metadata": {},
     "output_type": "execute_result"
    }
   ],
   "source": [
    "f_b.entries[0].keys()"
   ]
  },
  {
   "cell_type": "markdown",
   "metadata": {},
   "source": [
    "### 7. Extract a list of entry titles."
   ]
  },
  {
   "cell_type": "code",
   "execution_count": 9,
   "metadata": {},
   "outputs": [
    {
     "name": "stdout",
     "output_type": "stream",
     "text": [
      "['The Problem with Intelligence', 'Radar Trends to Watch: September 2022', 'Ad Networks and Content Marketing', 'On Technique', 'Scaling False Peaks', 'The Metaverse Is Not a Place', 'Radar Trends to Watch: August 2022', 'SQL: The Universal Solvent for REST APIs', 'Artificial Creativity?', 'Radar Trends to Watch: July 2022', '2022 Cloud Salary Survey', '“Sentience” is the Wrong Question', 'Closer to AGI?', 'Radar Trends to Watch: June 2022', 'Building a Better Middleman']\n"
     ]
    }
   ],
   "source": [
    "titles = [f_b.entries[i].title for i in range(len(f_b.entries))]\n",
    "print(titles)"
   ]
  },
  {
   "cell_type": "markdown",
   "metadata": {},
   "source": [
    "### 8. Calculate the percentage of \"Four short links\" entry titles."
   ]
  },
  {
   "cell_type": "code",
   "execution_count": 10,
   "metadata": {},
   "outputs": [
    {
     "data": {
      "text/plain": [
       "26.666666666666668"
      ]
     },
     "execution_count": 10,
     "metadata": {},
     "output_type": "execute_result"
    }
   ],
   "source": [
    "4/len(titles)*100"
   ]
  },
  {
   "cell_type": "markdown",
   "metadata": {},
   "source": [
    "### 9. Create a Pandas data frame from the feed's entries."
   ]
  },
  {
   "cell_type": "code",
   "execution_count": 11,
   "metadata": {},
   "outputs": [],
   "source": [
    "import pandas as pd"
   ]
  },
  {
   "cell_type": "code",
   "execution_count": 12,
   "metadata": {},
   "outputs": [],
   "source": [
    "df = pd.DataFrame(f_b.entries)"
   ]
  },
  {
   "cell_type": "code",
   "execution_count": 13,
   "metadata": {},
   "outputs": [
    {
     "data": {
      "text/html": [
       "<div>\n",
       "<style scoped>\n",
       "    .dataframe tbody tr th:only-of-type {\n",
       "        vertical-align: middle;\n",
       "    }\n",
       "\n",
       "    .dataframe tbody tr th {\n",
       "        vertical-align: top;\n",
       "    }\n",
       "\n",
       "    .dataframe thead th {\n",
       "        text-align: right;\n",
       "    }\n",
       "</style>\n",
       "<table border=\"1\" class=\"dataframe\">\n",
       "  <thead>\n",
       "    <tr style=\"text-align: right;\">\n",
       "      <th></th>\n",
       "      <th>title</th>\n",
       "      <th>title_detail</th>\n",
       "      <th>links</th>\n",
       "      <th>link</th>\n",
       "      <th>comments</th>\n",
       "      <th>published</th>\n",
       "      <th>published_parsed</th>\n",
       "      <th>authors</th>\n",
       "      <th>author</th>\n",
       "      <th>author_detail</th>\n",
       "      <th>tags</th>\n",
       "      <th>id</th>\n",
       "      <th>guidislink</th>\n",
       "      <th>summary</th>\n",
       "      <th>summary_detail</th>\n",
       "      <th>content</th>\n",
       "      <th>wfw_commentrss</th>\n",
       "      <th>slash_comments</th>\n",
       "    </tr>\n",
       "  </thead>\n",
       "  <tbody>\n",
       "    <tr>\n",
       "      <th>0</th>\n",
       "      <td>The Problem with Intelligence</td>\n",
       "      <td>{'type': 'text/plain', 'language': None, 'base...</td>\n",
       "      <td>[{'rel': 'alternate', 'type': 'text/html', 'hr...</td>\n",
       "      <td>https://www.oreilly.com/radar/the-problem-with...</td>\n",
       "      <td>https://www.oreilly.com/radar/the-problem-with...</td>\n",
       "      <td>Tue, 13 Sep 2022 11:21:40 +0000</td>\n",
       "      <td>(2022, 9, 13, 11, 21, 40, 1, 256, 0)</td>\n",
       "      <td>[{'name': 'Mike Loukides'}]</td>\n",
       "      <td>Mike Loukides</td>\n",
       "      <td>{'name': 'Mike Loukides'}</td>\n",
       "      <td>[{'term': 'Artificial Intelligence', 'scheme':...</td>\n",
       "      <td>https://www.oreilly.com/radar/?p=14718</td>\n",
       "      <td>False</td>\n",
       "      <td>Projects like OpenAI’s DALL-E and DeepMind’s G...</td>\n",
       "      <td>{'type': 'text/html', 'language': None, 'base'...</td>\n",
       "      <td>[{'type': 'text/html', 'language': None, 'base...</td>\n",
       "      <td>https://www.oreilly.com/radar/the-problem-with...</td>\n",
       "      <td>0</td>\n",
       "    </tr>\n",
       "    <tr>\n",
       "      <th>1</th>\n",
       "      <td>Radar Trends to Watch: September 2022</td>\n",
       "      <td>{'type': 'text/plain', 'language': None, 'base...</td>\n",
       "      <td>[{'rel': 'alternate', 'type': 'text/html', 'hr...</td>\n",
       "      <td>https://www.oreilly.com/radar/radar-trends-to-...</td>\n",
       "      <td>https://www.oreilly.com/radar/radar-trends-to-...</td>\n",
       "      <td>Tue, 06 Sep 2022 11:21:09 +0000</td>\n",
       "      <td>(2022, 9, 6, 11, 21, 9, 1, 249, 0)</td>\n",
       "      <td>[{'name': 'Mike Loukides'}]</td>\n",
       "      <td>Mike Loukides</td>\n",
       "      <td>{'name': 'Mike Loukides'}</td>\n",
       "      <td>[{'term': 'Radar Trends', 'scheme': None, 'lab...</td>\n",
       "      <td>https://www.oreilly.com/radar/?p=14700</td>\n",
       "      <td>False</td>\n",
       "      <td>It’s hardly news to talk about the AI developm...</td>\n",
       "      <td>{'type': 'text/html', 'language': None, 'base'...</td>\n",
       "      <td>[{'type': 'text/html', 'language': None, 'base...</td>\n",
       "      <td>https://www.oreilly.com/radar/radar-trends-to-...</td>\n",
       "      <td>0</td>\n",
       "    </tr>\n",
       "    <tr>\n",
       "      <th>2</th>\n",
       "      <td>Ad Networks and Content Marketing</td>\n",
       "      <td>{'type': 'text/plain', 'language': None, 'base...</td>\n",
       "      <td>[{'rel': 'alternate', 'type': 'text/html', 'hr...</td>\n",
       "      <td>https://www.oreilly.com/radar/ad-networks-and-...</td>\n",
       "      <td>https://www.oreilly.com/radar/ad-networks-and-...</td>\n",
       "      <td>Tue, 16 Aug 2022 11:21:21 +0000</td>\n",
       "      <td>(2022, 8, 16, 11, 21, 21, 1, 228, 0)</td>\n",
       "      <td>[{'name': 'Q McCallum'}]</td>\n",
       "      <td>Q McCallum</td>\n",
       "      <td>{'name': 'Q McCallum'}</td>\n",
       "      <td>[{'term': 'Operations', 'scheme': None, 'label...</td>\n",
       "      <td>https://www.oreilly.com/radar/?p=14688</td>\n",
       "      <td>False</td>\n",
       "      <td>In a recent Radar piece, I explored N-sided ma...</td>\n",
       "      <td>{'type': 'text/html', 'language': None, 'base'...</td>\n",
       "      <td>[{'type': 'text/html', 'language': None, 'base...</td>\n",
       "      <td>https://www.oreilly.com/radar/ad-networks-and-...</td>\n",
       "      <td>0</td>\n",
       "    </tr>\n",
       "    <tr>\n",
       "      <th>3</th>\n",
       "      <td>On Technique</td>\n",
       "      <td>{'type': 'text/plain', 'language': None, 'base...</td>\n",
       "      <td>[{'rel': 'alternate', 'type': 'text/html', 'hr...</td>\n",
       "      <td>https://www.oreilly.com/radar/on-technique/</td>\n",
       "      <td>https://www.oreilly.com/radar/on-technique/#re...</td>\n",
       "      <td>Tue, 09 Aug 2022 11:12:22 +0000</td>\n",
       "      <td>(2022, 8, 9, 11, 12, 22, 1, 221, 0)</td>\n",
       "      <td>[{'name': 'Mike Loukides'}]</td>\n",
       "      <td>Mike Loukides</td>\n",
       "      <td>{'name': 'Mike Loukides'}</td>\n",
       "      <td>[{'term': 'AI &amp; ML', 'scheme': None, 'label': ...</td>\n",
       "      <td>https://www.oreilly.com/radar/?p=14669</td>\n",
       "      <td>False</td>\n",
       "      <td>In a previous article, I wrote about how model...</td>\n",
       "      <td>{'type': 'text/html', 'language': None, 'base'...</td>\n",
       "      <td>[{'type': 'text/html', 'language': None, 'base...</td>\n",
       "      <td>https://www.oreilly.com/radar/on-technique/feed/</td>\n",
       "      <td>0</td>\n",
       "    </tr>\n",
       "    <tr>\n",
       "      <th>4</th>\n",
       "      <td>Scaling False Peaks</td>\n",
       "      <td>{'type': 'text/plain', 'language': None, 'base...</td>\n",
       "      <td>[{'rel': 'alternate', 'type': 'text/html', 'hr...</td>\n",
       "      <td>https://www.oreilly.com/radar/scaling-false-pe...</td>\n",
       "      <td>https://www.oreilly.com/radar/scaling-false-pe...</td>\n",
       "      <td>Thu, 04 Aug 2022 11:12:44 +0000</td>\n",
       "      <td>(2022, 8, 4, 11, 12, 44, 3, 216, 0)</td>\n",
       "      <td>[{'name': 'Kevlin Henney'}]</td>\n",
       "      <td>Kevlin Henney</td>\n",
       "      <td>{'name': 'Kevlin Henney'}</td>\n",
       "      <td>[{'term': 'AI &amp; ML', 'scheme': None, 'label': ...</td>\n",
       "      <td>https://www.oreilly.com/radar/?p=14661</td>\n",
       "      <td>False</td>\n",
       "      <td>Humans are notoriously poor at judging distanc...</td>\n",
       "      <td>{'type': 'text/html', 'language': None, 'base'...</td>\n",
       "      <td>[{'type': 'text/html', 'language': None, 'base...</td>\n",
       "      <td>https://www.oreilly.com/radar/scaling-false-pe...</td>\n",
       "      <td>0</td>\n",
       "    </tr>\n",
       "    <tr>\n",
       "      <th>5</th>\n",
       "      <td>The Metaverse Is Not a Place</td>\n",
       "      <td>{'type': 'text/plain', 'language': None, 'base...</td>\n",
       "      <td>[{'rel': 'alternate', 'type': 'text/html', 'hr...</td>\n",
       "      <td>https://www.oreilly.com/radar/the-metaverse-is...</td>\n",
       "      <td>https://www.oreilly.com/radar/the-metaverse-is...</td>\n",
       "      <td>Tue, 02 Aug 2022 18:38:46 +0000</td>\n",
       "      <td>(2022, 8, 2, 18, 38, 46, 1, 214, 0)</td>\n",
       "      <td>[{'name': 'Tim O’Reilly'}]</td>\n",
       "      <td>Tim O’Reilly</td>\n",
       "      <td>{'name': 'Tim O’Reilly'}</td>\n",
       "      <td>[{'term': 'Metaverse', 'scheme': None, 'label'...</td>\n",
       "      <td>https://www.oreilly.com/radar/?p=14641</td>\n",
       "      <td>False</td>\n",
       "      <td>The metaphors we use to describe new technolog...</td>\n",
       "      <td>{'type': 'text/html', 'language': None, 'base'...</td>\n",
       "      <td>[{'type': 'text/html', 'language': None, 'base...</td>\n",
       "      <td>https://www.oreilly.com/radar/the-metaverse-is...</td>\n",
       "      <td>0</td>\n",
       "    </tr>\n",
       "    <tr>\n",
       "      <th>6</th>\n",
       "      <td>Radar Trends to Watch: August 2022</td>\n",
       "      <td>{'type': 'text/plain', 'language': None, 'base...</td>\n",
       "      <td>[{'rel': 'alternate', 'type': 'text/html', 'hr...</td>\n",
       "      <td>https://www.oreilly.com/radar/radar-trends-to-...</td>\n",
       "      <td>https://www.oreilly.com/radar/radar-trends-to-...</td>\n",
       "      <td>Tue, 02 Aug 2022 11:18:24 +0000</td>\n",
       "      <td>(2022, 8, 2, 11, 18, 24, 1, 214, 0)</td>\n",
       "      <td>[{'name': 'Mike Loukides'}]</td>\n",
       "      <td>Mike Loukides</td>\n",
       "      <td>{'name': 'Mike Loukides'}</td>\n",
       "      <td>[{'term': 'Radar Trends', 'scheme': None, 'lab...</td>\n",
       "      <td>https://www.oreilly.com/radar/?p=14631</td>\n",
       "      <td>False</td>\n",
       "      <td>The large model train keeps rolling on. This m...</td>\n",
       "      <td>{'type': 'text/html', 'language': None, 'base'...</td>\n",
       "      <td>[{'type': 'text/html', 'language': None, 'base...</td>\n",
       "      <td>https://www.oreilly.com/radar/radar-trends-to-...</td>\n",
       "      <td>0</td>\n",
       "    </tr>\n",
       "    <tr>\n",
       "      <th>7</th>\n",
       "      <td>SQL: The Universal Solvent for REST APIs</td>\n",
       "      <td>{'type': 'text/plain', 'language': None, 'base...</td>\n",
       "      <td>[{'rel': 'alternate', 'type': 'text/html', 'hr...</td>\n",
       "      <td>https://www.oreilly.com/radar/sql-the-universa...</td>\n",
       "      <td>https://www.oreilly.com/radar/sql-the-universa...</td>\n",
       "      <td>Tue, 19 Jul 2022 11:16:39 +0000</td>\n",
       "      <td>(2022, 7, 19, 11, 16, 39, 1, 200, 0)</td>\n",
       "      <td>[{'name': 'Jon Udell'}]</td>\n",
       "      <td>Jon Udell</td>\n",
       "      <td>{'name': 'Jon Udell'}</td>\n",
       "      <td>[{'term': 'Data', 'scheme': None, 'label': Non...</td>\n",
       "      <td>https://www.oreilly.com/radar/?p=14612</td>\n",
       "      <td>False</td>\n",
       "      <td>Data scientists working in Python or R typical...</td>\n",
       "      <td>{'type': 'text/html', 'language': None, 'base'...</td>\n",
       "      <td>[{'type': 'text/html', 'language': None, 'base...</td>\n",
       "      <td>https://www.oreilly.com/radar/sql-the-universa...</td>\n",
       "      <td>0</td>\n",
       "    </tr>\n",
       "    <tr>\n",
       "      <th>8</th>\n",
       "      <td>Artificial Creativity?</td>\n",
       "      <td>{'type': 'text/plain', 'language': None, 'base...</td>\n",
       "      <td>[{'rel': 'alternate', 'type': 'text/html', 'hr...</td>\n",
       "      <td>https://www.oreilly.com/radar/artificial-creat...</td>\n",
       "      <td>https://www.oreilly.com/radar/artificial-creat...</td>\n",
       "      <td>Tue, 12 Jul 2022 13:24:16 +0000</td>\n",
       "      <td>(2022, 7, 12, 13, 24, 16, 1, 193, 0)</td>\n",
       "      <td>[{'name': 'Mike Loukides'}]</td>\n",
       "      <td>Mike Loukides</td>\n",
       "      <td>{'name': 'Mike Loukides'}</td>\n",
       "      <td>[{'term': 'Artificial Intelligence', 'scheme':...</td>\n",
       "      <td>https://www.oreilly.com/radar/?p=14604</td>\n",
       "      <td>False</td>\n",
       "      <td>There’s a puzzling disconnect in the many arti...</td>\n",
       "      <td>{'type': 'text/html', 'language': None, 'base'...</td>\n",
       "      <td>[{'type': 'text/html', 'language': None, 'base...</td>\n",
       "      <td>https://www.oreilly.com/radar/artificial-creat...</td>\n",
       "      <td>0</td>\n",
       "    </tr>\n",
       "    <tr>\n",
       "      <th>9</th>\n",
       "      <td>Radar Trends to Watch: July 2022</td>\n",
       "      <td>{'type': 'text/plain', 'language': None, 'base...</td>\n",
       "      <td>[{'rel': 'alternate', 'type': 'text/html', 'hr...</td>\n",
       "      <td>https://www.oreilly.com/radar/radar-trends-to-...</td>\n",
       "      <td>https://www.oreilly.com/radar/radar-trends-to-...</td>\n",
       "      <td>Tue, 05 Jul 2022 11:09:04 +0000</td>\n",
       "      <td>(2022, 7, 5, 11, 9, 4, 1, 186, 0)</td>\n",
       "      <td>[{'name': 'Mike Loukides'}]</td>\n",
       "      <td>Mike Loukides</td>\n",
       "      <td>{'name': 'Mike Loukides'}</td>\n",
       "      <td>[{'term': 'Radar Trends', 'scheme': None, 'lab...</td>\n",
       "      <td>https://www.oreilly.com/radar/?p=14591</td>\n",
       "      <td>False</td>\n",
       "      <td>This month, large models are even more in the ...</td>\n",
       "      <td>{'type': 'text/html', 'language': None, 'base'...</td>\n",
       "      <td>[{'type': 'text/html', 'language': None, 'base...</td>\n",
       "      <td>https://www.oreilly.com/radar/radar-trends-to-...</td>\n",
       "      <td>0</td>\n",
       "    </tr>\n",
       "  </tbody>\n",
       "</table>\n",
       "</div>"
      ],
      "text/plain": [
       "                                      title  \\\n",
       "0             The Problem with Intelligence   \n",
       "1     Radar Trends to Watch: September 2022   \n",
       "2         Ad Networks and Content Marketing   \n",
       "3                              On Technique   \n",
       "4                       Scaling False Peaks   \n",
       "5              The Metaverse Is Not a Place   \n",
       "6        Radar Trends to Watch: August 2022   \n",
       "7  SQL: The Universal Solvent for REST APIs   \n",
       "8                    Artificial Creativity?   \n",
       "9          Radar Trends to Watch: July 2022   \n",
       "\n",
       "                                        title_detail  \\\n",
       "0  {'type': 'text/plain', 'language': None, 'base...   \n",
       "1  {'type': 'text/plain', 'language': None, 'base...   \n",
       "2  {'type': 'text/plain', 'language': None, 'base...   \n",
       "3  {'type': 'text/plain', 'language': None, 'base...   \n",
       "4  {'type': 'text/plain', 'language': None, 'base...   \n",
       "5  {'type': 'text/plain', 'language': None, 'base...   \n",
       "6  {'type': 'text/plain', 'language': None, 'base...   \n",
       "7  {'type': 'text/plain', 'language': None, 'base...   \n",
       "8  {'type': 'text/plain', 'language': None, 'base...   \n",
       "9  {'type': 'text/plain', 'language': None, 'base...   \n",
       "\n",
       "                                               links  \\\n",
       "0  [{'rel': 'alternate', 'type': 'text/html', 'hr...   \n",
       "1  [{'rel': 'alternate', 'type': 'text/html', 'hr...   \n",
       "2  [{'rel': 'alternate', 'type': 'text/html', 'hr...   \n",
       "3  [{'rel': 'alternate', 'type': 'text/html', 'hr...   \n",
       "4  [{'rel': 'alternate', 'type': 'text/html', 'hr...   \n",
       "5  [{'rel': 'alternate', 'type': 'text/html', 'hr...   \n",
       "6  [{'rel': 'alternate', 'type': 'text/html', 'hr...   \n",
       "7  [{'rel': 'alternate', 'type': 'text/html', 'hr...   \n",
       "8  [{'rel': 'alternate', 'type': 'text/html', 'hr...   \n",
       "9  [{'rel': 'alternate', 'type': 'text/html', 'hr...   \n",
       "\n",
       "                                                link  \\\n",
       "0  https://www.oreilly.com/radar/the-problem-with...   \n",
       "1  https://www.oreilly.com/radar/radar-trends-to-...   \n",
       "2  https://www.oreilly.com/radar/ad-networks-and-...   \n",
       "3        https://www.oreilly.com/radar/on-technique/   \n",
       "4  https://www.oreilly.com/radar/scaling-false-pe...   \n",
       "5  https://www.oreilly.com/radar/the-metaverse-is...   \n",
       "6  https://www.oreilly.com/radar/radar-trends-to-...   \n",
       "7  https://www.oreilly.com/radar/sql-the-universa...   \n",
       "8  https://www.oreilly.com/radar/artificial-creat...   \n",
       "9  https://www.oreilly.com/radar/radar-trends-to-...   \n",
       "\n",
       "                                            comments  \\\n",
       "0  https://www.oreilly.com/radar/the-problem-with...   \n",
       "1  https://www.oreilly.com/radar/radar-trends-to-...   \n",
       "2  https://www.oreilly.com/radar/ad-networks-and-...   \n",
       "3  https://www.oreilly.com/radar/on-technique/#re...   \n",
       "4  https://www.oreilly.com/radar/scaling-false-pe...   \n",
       "5  https://www.oreilly.com/radar/the-metaverse-is...   \n",
       "6  https://www.oreilly.com/radar/radar-trends-to-...   \n",
       "7  https://www.oreilly.com/radar/sql-the-universa...   \n",
       "8  https://www.oreilly.com/radar/artificial-creat...   \n",
       "9  https://www.oreilly.com/radar/radar-trends-to-...   \n",
       "\n",
       "                         published                      published_parsed  \\\n",
       "0  Tue, 13 Sep 2022 11:21:40 +0000  (2022, 9, 13, 11, 21, 40, 1, 256, 0)   \n",
       "1  Tue, 06 Sep 2022 11:21:09 +0000    (2022, 9, 6, 11, 21, 9, 1, 249, 0)   \n",
       "2  Tue, 16 Aug 2022 11:21:21 +0000  (2022, 8, 16, 11, 21, 21, 1, 228, 0)   \n",
       "3  Tue, 09 Aug 2022 11:12:22 +0000   (2022, 8, 9, 11, 12, 22, 1, 221, 0)   \n",
       "4  Thu, 04 Aug 2022 11:12:44 +0000   (2022, 8, 4, 11, 12, 44, 3, 216, 0)   \n",
       "5  Tue, 02 Aug 2022 18:38:46 +0000   (2022, 8, 2, 18, 38, 46, 1, 214, 0)   \n",
       "6  Tue, 02 Aug 2022 11:18:24 +0000   (2022, 8, 2, 11, 18, 24, 1, 214, 0)   \n",
       "7  Tue, 19 Jul 2022 11:16:39 +0000  (2022, 7, 19, 11, 16, 39, 1, 200, 0)   \n",
       "8  Tue, 12 Jul 2022 13:24:16 +0000  (2022, 7, 12, 13, 24, 16, 1, 193, 0)   \n",
       "9  Tue, 05 Jul 2022 11:09:04 +0000     (2022, 7, 5, 11, 9, 4, 1, 186, 0)   \n",
       "\n",
       "                       authors         author              author_detail  \\\n",
       "0  [{'name': 'Mike Loukides'}]  Mike Loukides  {'name': 'Mike Loukides'}   \n",
       "1  [{'name': 'Mike Loukides'}]  Mike Loukides  {'name': 'Mike Loukides'}   \n",
       "2     [{'name': 'Q McCallum'}]     Q McCallum     {'name': 'Q McCallum'}   \n",
       "3  [{'name': 'Mike Loukides'}]  Mike Loukides  {'name': 'Mike Loukides'}   \n",
       "4  [{'name': 'Kevlin Henney'}]  Kevlin Henney  {'name': 'Kevlin Henney'}   \n",
       "5   [{'name': 'Tim O’Reilly'}]   Tim O’Reilly   {'name': 'Tim O’Reilly'}   \n",
       "6  [{'name': 'Mike Loukides'}]  Mike Loukides  {'name': 'Mike Loukides'}   \n",
       "7      [{'name': 'Jon Udell'}]      Jon Udell      {'name': 'Jon Udell'}   \n",
       "8  [{'name': 'Mike Loukides'}]  Mike Loukides  {'name': 'Mike Loukides'}   \n",
       "9  [{'name': 'Mike Loukides'}]  Mike Loukides  {'name': 'Mike Loukides'}   \n",
       "\n",
       "                                                tags  \\\n",
       "0  [{'term': 'Artificial Intelligence', 'scheme':...   \n",
       "1  [{'term': 'Radar Trends', 'scheme': None, 'lab...   \n",
       "2  [{'term': 'Operations', 'scheme': None, 'label...   \n",
       "3  [{'term': 'AI & ML', 'scheme': None, 'label': ...   \n",
       "4  [{'term': 'AI & ML', 'scheme': None, 'label': ...   \n",
       "5  [{'term': 'Metaverse', 'scheme': None, 'label'...   \n",
       "6  [{'term': 'Radar Trends', 'scheme': None, 'lab...   \n",
       "7  [{'term': 'Data', 'scheme': None, 'label': Non...   \n",
       "8  [{'term': 'Artificial Intelligence', 'scheme':...   \n",
       "9  [{'term': 'Radar Trends', 'scheme': None, 'lab...   \n",
       "\n",
       "                                       id  guidislink  \\\n",
       "0  https://www.oreilly.com/radar/?p=14718       False   \n",
       "1  https://www.oreilly.com/radar/?p=14700       False   \n",
       "2  https://www.oreilly.com/radar/?p=14688       False   \n",
       "3  https://www.oreilly.com/radar/?p=14669       False   \n",
       "4  https://www.oreilly.com/radar/?p=14661       False   \n",
       "5  https://www.oreilly.com/radar/?p=14641       False   \n",
       "6  https://www.oreilly.com/radar/?p=14631       False   \n",
       "7  https://www.oreilly.com/radar/?p=14612       False   \n",
       "8  https://www.oreilly.com/radar/?p=14604       False   \n",
       "9  https://www.oreilly.com/radar/?p=14591       False   \n",
       "\n",
       "                                             summary  \\\n",
       "0  Projects like OpenAI’s DALL-E and DeepMind’s G...   \n",
       "1  It’s hardly news to talk about the AI developm...   \n",
       "2  In a recent Radar piece, I explored N-sided ma...   \n",
       "3  In a previous article, I wrote about how model...   \n",
       "4  Humans are notoriously poor at judging distanc...   \n",
       "5  The metaphors we use to describe new technolog...   \n",
       "6  The large model train keeps rolling on. This m...   \n",
       "7  Data scientists working in Python or R typical...   \n",
       "8  There’s a puzzling disconnect in the many arti...   \n",
       "9  This month, large models are even more in the ...   \n",
       "\n",
       "                                      summary_detail  \\\n",
       "0  {'type': 'text/html', 'language': None, 'base'...   \n",
       "1  {'type': 'text/html', 'language': None, 'base'...   \n",
       "2  {'type': 'text/html', 'language': None, 'base'...   \n",
       "3  {'type': 'text/html', 'language': None, 'base'...   \n",
       "4  {'type': 'text/html', 'language': None, 'base'...   \n",
       "5  {'type': 'text/html', 'language': None, 'base'...   \n",
       "6  {'type': 'text/html', 'language': None, 'base'...   \n",
       "7  {'type': 'text/html', 'language': None, 'base'...   \n",
       "8  {'type': 'text/html', 'language': None, 'base'...   \n",
       "9  {'type': 'text/html', 'language': None, 'base'...   \n",
       "\n",
       "                                             content  \\\n",
       "0  [{'type': 'text/html', 'language': None, 'base...   \n",
       "1  [{'type': 'text/html', 'language': None, 'base...   \n",
       "2  [{'type': 'text/html', 'language': None, 'base...   \n",
       "3  [{'type': 'text/html', 'language': None, 'base...   \n",
       "4  [{'type': 'text/html', 'language': None, 'base...   \n",
       "5  [{'type': 'text/html', 'language': None, 'base...   \n",
       "6  [{'type': 'text/html', 'language': None, 'base...   \n",
       "7  [{'type': 'text/html', 'language': None, 'base...   \n",
       "8  [{'type': 'text/html', 'language': None, 'base...   \n",
       "9  [{'type': 'text/html', 'language': None, 'base...   \n",
       "\n",
       "                                      wfw_commentrss slash_comments  \n",
       "0  https://www.oreilly.com/radar/the-problem-with...              0  \n",
       "1  https://www.oreilly.com/radar/radar-trends-to-...              0  \n",
       "2  https://www.oreilly.com/radar/ad-networks-and-...              0  \n",
       "3   https://www.oreilly.com/radar/on-technique/feed/              0  \n",
       "4  https://www.oreilly.com/radar/scaling-false-pe...              0  \n",
       "5  https://www.oreilly.com/radar/the-metaverse-is...              0  \n",
       "6  https://www.oreilly.com/radar/radar-trends-to-...              0  \n",
       "7  https://www.oreilly.com/radar/sql-the-universa...              0  \n",
       "8  https://www.oreilly.com/radar/artificial-creat...              0  \n",
       "9  https://www.oreilly.com/radar/radar-trends-to-...              0  "
      ]
     },
     "execution_count": 13,
     "metadata": {},
     "output_type": "execute_result"
    }
   ],
   "source": [
    "df.head(10)"
   ]
  },
  {
   "cell_type": "markdown",
   "metadata": {},
   "source": [
    "### 10. Count the number of entries per author and sort them in descending order."
   ]
  },
  {
   "cell_type": "code",
   "execution_count": 14,
   "metadata": {},
   "outputs": [
    {
     "data": {
      "text/html": [
       "<div>\n",
       "<style scoped>\n",
       "    .dataframe tbody tr th:only-of-type {\n",
       "        vertical-align: middle;\n",
       "    }\n",
       "\n",
       "    .dataframe tbody tr th {\n",
       "        vertical-align: top;\n",
       "    }\n",
       "\n",
       "    .dataframe thead th {\n",
       "        text-align: right;\n",
       "    }\n",
       "</style>\n",
       "<table border=\"1\" class=\"dataframe\">\n",
       "  <thead>\n",
       "    <tr style=\"text-align: right;\">\n",
       "      <th></th>\n",
       "      <th>author</th>\n",
       "      <th>entries</th>\n",
       "    </tr>\n",
       "  </thead>\n",
       "  <tbody>\n",
       "    <tr>\n",
       "      <th>2</th>\n",
       "      <td>Mike Loukides</td>\n",
       "      <td>10</td>\n",
       "    </tr>\n",
       "    <tr>\n",
       "      <th>3</th>\n",
       "      <td>Q McCallum</td>\n",
       "      <td>2</td>\n",
       "    </tr>\n",
       "    <tr>\n",
       "      <th>0</th>\n",
       "      <td>Jon Udell</td>\n",
       "      <td>1</td>\n",
       "    </tr>\n",
       "    <tr>\n",
       "      <th>1</th>\n",
       "      <td>Kevlin Henney</td>\n",
       "      <td>1</td>\n",
       "    </tr>\n",
       "    <tr>\n",
       "      <th>4</th>\n",
       "      <td>Tim O’Reilly</td>\n",
       "      <td>1</td>\n",
       "    </tr>\n",
       "  </tbody>\n",
       "</table>\n",
       "</div>"
      ],
      "text/plain": [
       "          author  entries\n",
       "2  Mike Loukides       10\n",
       "3     Q McCallum        2\n",
       "0      Jon Udell        1\n",
       "1  Kevlin Henney        1\n",
       "4   Tim O’Reilly        1"
      ]
     },
     "execution_count": 14,
     "metadata": {},
     "output_type": "execute_result"
    }
   ],
   "source": [
    "author = df.groupby('author', as_index=False).agg({'title':'count'})\n",
    "author.columns = ['author', 'entries']\n",
    "author.sort_values('entries', ascending=False)"
   ]
  },
  {
   "cell_type": "markdown",
   "metadata": {},
   "source": [
    "### 11. Add a new column to the data frame that contains the length (number of characters) of each entry title. Return a data frame that contains the title, author, and title length of each entry in descending order (longest title length at the top)."
   ]
  },
  {
   "cell_type": "code",
   "execution_count": 15,
   "metadata": {},
   "outputs": [],
   "source": [
    "df['title_length'] = df['title'].str.len()"
   ]
  },
  {
   "cell_type": "code",
   "execution_count": 16,
   "metadata": {},
   "outputs": [
    {
     "data": {
      "text/html": [
       "<div>\n",
       "<style scoped>\n",
       "    .dataframe tbody tr th:only-of-type {\n",
       "        vertical-align: middle;\n",
       "    }\n",
       "\n",
       "    .dataframe tbody tr th {\n",
       "        vertical-align: top;\n",
       "    }\n",
       "\n",
       "    .dataframe thead th {\n",
       "        text-align: right;\n",
       "    }\n",
       "</style>\n",
       "<table border=\"1\" class=\"dataframe\">\n",
       "  <thead>\n",
       "    <tr style=\"text-align: right;\">\n",
       "      <th></th>\n",
       "      <th>title</th>\n",
       "      <th>author</th>\n",
       "      <th>title_length</th>\n",
       "    </tr>\n",
       "  </thead>\n",
       "  <tbody>\n",
       "    <tr>\n",
       "      <th>7</th>\n",
       "      <td>SQL: The Universal Solvent for REST APIs</td>\n",
       "      <td>Jon Udell</td>\n",
       "      <td>40</td>\n",
       "    </tr>\n",
       "    <tr>\n",
       "      <th>1</th>\n",
       "      <td>Radar Trends to Watch: September 2022</td>\n",
       "      <td>Mike Loukides</td>\n",
       "      <td>37</td>\n",
       "    </tr>\n",
       "    <tr>\n",
       "      <th>6</th>\n",
       "      <td>Radar Trends to Watch: August 2022</td>\n",
       "      <td>Mike Loukides</td>\n",
       "      <td>34</td>\n",
       "    </tr>\n",
       "    <tr>\n",
       "      <th>2</th>\n",
       "      <td>Ad Networks and Content Marketing</td>\n",
       "      <td>Q McCallum</td>\n",
       "      <td>33</td>\n",
       "    </tr>\n",
       "    <tr>\n",
       "      <th>11</th>\n",
       "      <td>“Sentience” is the Wrong Question</td>\n",
       "      <td>Mike Loukides</td>\n",
       "      <td>33</td>\n",
       "    </tr>\n",
       "    <tr>\n",
       "      <th>9</th>\n",
       "      <td>Radar Trends to Watch: July 2022</td>\n",
       "      <td>Mike Loukides</td>\n",
       "      <td>32</td>\n",
       "    </tr>\n",
       "    <tr>\n",
       "      <th>13</th>\n",
       "      <td>Radar Trends to Watch: June 2022</td>\n",
       "      <td>Mike Loukides</td>\n",
       "      <td>32</td>\n",
       "    </tr>\n",
       "    <tr>\n",
       "      <th>0</th>\n",
       "      <td>The Problem with Intelligence</td>\n",
       "      <td>Mike Loukides</td>\n",
       "      <td>29</td>\n",
       "    </tr>\n",
       "    <tr>\n",
       "      <th>5</th>\n",
       "      <td>The Metaverse Is Not a Place</td>\n",
       "      <td>Tim O’Reilly</td>\n",
       "      <td>28</td>\n",
       "    </tr>\n",
       "    <tr>\n",
       "      <th>14</th>\n",
       "      <td>Building a Better Middleman</td>\n",
       "      <td>Q McCallum</td>\n",
       "      <td>27</td>\n",
       "    </tr>\n",
       "    <tr>\n",
       "      <th>10</th>\n",
       "      <td>2022 Cloud Salary Survey</td>\n",
       "      <td>Mike Loukides</td>\n",
       "      <td>24</td>\n",
       "    </tr>\n",
       "    <tr>\n",
       "      <th>8</th>\n",
       "      <td>Artificial Creativity?</td>\n",
       "      <td>Mike Loukides</td>\n",
       "      <td>22</td>\n",
       "    </tr>\n",
       "    <tr>\n",
       "      <th>4</th>\n",
       "      <td>Scaling False Peaks</td>\n",
       "      <td>Kevlin Henney</td>\n",
       "      <td>19</td>\n",
       "    </tr>\n",
       "    <tr>\n",
       "      <th>12</th>\n",
       "      <td>Closer to AGI?</td>\n",
       "      <td>Mike Loukides</td>\n",
       "      <td>14</td>\n",
       "    </tr>\n",
       "    <tr>\n",
       "      <th>3</th>\n",
       "      <td>On Technique</td>\n",
       "      <td>Mike Loukides</td>\n",
       "      <td>12</td>\n",
       "    </tr>\n",
       "  </tbody>\n",
       "</table>\n",
       "</div>"
      ],
      "text/plain": [
       "                                       title         author  title_length\n",
       "7   SQL: The Universal Solvent for REST APIs      Jon Udell            40\n",
       "1      Radar Trends to Watch: September 2022  Mike Loukides            37\n",
       "6         Radar Trends to Watch: August 2022  Mike Loukides            34\n",
       "2          Ad Networks and Content Marketing     Q McCallum            33\n",
       "11         “Sentience” is the Wrong Question  Mike Loukides            33\n",
       "9           Radar Trends to Watch: July 2022  Mike Loukides            32\n",
       "13          Radar Trends to Watch: June 2022  Mike Loukides            32\n",
       "0              The Problem with Intelligence  Mike Loukides            29\n",
       "5               The Metaverse Is Not a Place   Tim O’Reilly            28\n",
       "14               Building a Better Middleman     Q McCallum            27\n",
       "10                  2022 Cloud Salary Survey  Mike Loukides            24\n",
       "8                     Artificial Creativity?  Mike Loukides            22\n",
       "4                        Scaling False Peaks  Kevlin Henney            19\n",
       "12                            Closer to AGI?  Mike Loukides            14\n",
       "3                               On Technique  Mike Loukides            12"
      ]
     },
     "execution_count": 16,
     "metadata": {},
     "output_type": "execute_result"
    }
   ],
   "source": [
    "df[['title','author','title_length']].sort_values('title_length',ascending=False)"
   ]
  },
  {
   "cell_type": "markdown",
   "metadata": {},
   "source": [
    "### 12. Create a list of entry titles whose summary includes the phrase \"machine learning.\""
   ]
  },
  {
   "cell_type": "code",
   "execution_count": 17,
   "metadata": {},
   "outputs": [
    {
     "data": {
      "text/plain": [
       "0     False\n",
       "1     False\n",
       "2     False\n",
       "3     False\n",
       "4     False\n",
       "5     False\n",
       "6     False\n",
       "7     False\n",
       "8     False\n",
       "9     False\n",
       "10    False\n",
       "11    False\n",
       "12    False\n",
       "13    False\n",
       "14    False\n",
       "Name: summary, dtype: bool"
      ]
     },
     "execution_count": 17,
     "metadata": {},
     "output_type": "execute_result"
    }
   ],
   "source": [
    "df['summary'].str.contains('Machine Learning', regex=False)"
   ]
  },
  {
   "cell_type": "code",
   "execution_count": null,
   "metadata": {},
   "outputs": [],
   "source": []
  }
 ],
 "metadata": {
  "kernelspec": {
   "display_name": "Python 3 (ipykernel)",
   "language": "python",
   "name": "python3"
  },
  "language_info": {
   "codemirror_mode": {
    "name": "ipython",
    "version": 3
   },
   "file_extension": ".py",
   "mimetype": "text/x-python",
   "name": "python",
   "nbconvert_exporter": "python",
   "pygments_lexer": "ipython3",
   "version": "3.9.12"
  }
 },
 "nbformat": 4,
 "nbformat_minor": 2
}
